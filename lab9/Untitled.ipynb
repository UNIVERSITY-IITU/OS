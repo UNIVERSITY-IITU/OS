{
 "cells": [
  {
   "cell_type": "code",
   "execution_count": 83,
   "metadata": {},
   "outputs": [],
   "source": [
    "from IPython.display import clear_output as clear\n",
    "from time import sleep\n",
    "from prettytable import PrettyTable\n",
    "table = PrettyTable()\n",
    "\n",
    "\n",
    "class Process():\n",
    "    def __init__(self, name, arrival, end):\n",
    "        self.name = name\n",
    "        self.arrival = arrival\n",
    "        self.end = end\n",
    "        \n",
    "    def __str__(self):\n",
    "        return f'{self.name} : {self.arrival} : {self.end}'"
   ]
  },
  {
   "cell_type": "code",
   "execution_count": 88,
   "metadata": {},
   "outputs": [],
   "source": [
    "def fcfs(processes : list):\n",
    "    total_time = sum([i.end for i in processes])\n",
    "    \n",
    "    init = 0\n",
    "    processes_display = {}\n",
    "    for n, i in enumerate(processes):\n",
    "        if i.arrival < init:\n",
    "            processes[n].arrival = init\n",
    "        end = i.arrival + i.end - 1\n",
    "        init, processes[n].end = end + 1, end\n",
    "        processes_display[i.name] = \"-\" * total_time\n",
    "        \n",
    "    for i in range(total_time):\n",
    "        clear()\n",
    "        process_name = [j.name for j in processes if j.arrival<=i<=j.end][0]\n",
    "\n",
    "        line = processes_display[process_name]\n",
    "        line = line[:i] + '#' + line[i+1 : ]\n",
    "        processes_display[process_name] = line\n",
    "\n",
    "\n",
    "        for k,v in processes_display.items():\n",
    "            print(f\"{k} : {v}\")\n",
    "\n",
    "        sleep(0.3)\n",
    "    \n",
    "    table.field_names = [\"#\", \"PROCESS_NAME\", \"EXECUTION_TIME\"]\n",
    "    [table.add_row([n,i.name, i.end]) for n,i in enumerate(processes)] \n",
    "    print(table)\n",
    "\n"
   ]
  },
  {
   "cell_type": "code",
   "execution_count": 89,
   "metadata": {},
   "outputs": [
    {
     "name": "stdout",
     "output_type": "stream",
     "text": [
      "A : ###--------------\n",
      "B : ---###-----------\n",
      "C : ------#####------\n",
      "D : -----------##----\n",
      "E : -------------####\n",
      "+---+--------------+----------------+\n",
      "| # | PROCESS_NAME | EXECUTION_TIME |\n",
      "+---+--------------+----------------+\n",
      "| 0 |      A       |       2        |\n",
      "| 1 |      B       |       5        |\n",
      "| 2 |      C       |       10       |\n",
      "| 3 |      D       |       12       |\n",
      "| 4 |      E       |       16       |\n",
      "+---+--------------+----------------+\n"
     ]
    }
   ],
   "source": [
    "processes = [\n",
    "    Process(\"A\", 0, 3),\n",
    "    Process(\"B\", 2, 3),\n",
    "    Process(\"C\", 4, 5),\n",
    "    Process(\"D\", 6, 2),\n",
    "    Process(\"E\", 8, 4),\n",
    "]\n",
    "    \n",
    "fcfs(processes)"
   ]
  },
  {
   "cell_type": "code",
   "execution_count": null,
   "metadata": {},
   "outputs": [],
   "source": []
  },
  {
   "cell_type": "code",
   "execution_count": null,
   "metadata": {},
   "outputs": [],
   "source": []
  },
  {
   "cell_type": "code",
   "execution_count": null,
   "metadata": {},
   "outputs": [],
   "source": []
  },
  {
   "cell_type": "code",
   "execution_count": null,
   "metadata": {},
   "outputs": [],
   "source": []
  },
  {
   "cell_type": "code",
   "execution_count": null,
   "metadata": {},
   "outputs": [],
   "source": []
  },
  {
   "cell_type": "code",
   "execution_count": null,
   "metadata": {},
   "outputs": [],
   "source": []
  }
 ],
 "metadata": {
  "kernelspec": {
   "display_name": "Python 3",
   "language": "python",
   "name": "python3"
  },
  "language_info": {
   "codemirror_mode": {
    "name": "ipython",
    "version": 3
   },
   "file_extension": ".py",
   "mimetype": "text/x-python",
   "name": "python",
   "nbconvert_exporter": "python",
   "pygments_lexer": "ipython3",
   "version": "3.7.7"
  }
 },
 "nbformat": 4,
 "nbformat_minor": 4
}
