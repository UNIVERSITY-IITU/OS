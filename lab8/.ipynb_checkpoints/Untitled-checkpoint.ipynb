{
 "cells": [
  {
   "cell_type": "code",
   "execution_count": 108,
   "metadata": {},
   "outputs": [],
   "source": [
    "from multiprocessing import Pool, cpu_count\n",
    "import time"
   ]
  },
  {
   "cell_type": "code",
   "execution_count": 100,
   "metadata": {},
   "outputs": [],
   "source": [
    "# Wraps tuple to  *args\n",
    "def multi_run_wrapper(args):\n",
    "    return is_sudoku(*args)\n",
    "\n",
    "def is_sudoku(sudoku:list, diagonal:int):\n",
    "    return all([\n",
    "        # if len of horizontal line equal to len(sudoku)\n",
    "        len(set(\n",
    "            sudoku[diagonal])) == len(sudoku), \n",
    "        \n",
    "        # if len of vertical line equal to len(sudoku)\n",
    "        len(set(\n",
    "            [sudoku[i][diagonal] for i in range(len(sudoku))]\n",
    "        )) == len(sudoku)\n",
    "    ])\n"
   ]
  },
  {
   "cell_type": "code",
   "execution_count": 101,
   "metadata": {},
   "outputs": [],
   "source": [
    "sudoku = [\n",
    "    [6, 2, 5, 8, 4, 3, 7, 9, 1],\n",
    "    [7, 9, 1, 2, 6, 5, 4, 8, 3],\n",
    "    [4, 8, 3, 9, 7, 1, 6, 2, 5],\n",
    "    [8, 1, 4, 5, 9, 7, 2, 3, 6],\n",
    "    [2, 3, 6, 1, 8, 4, 9, 5, 7],\n",
    "    [9, 5, 7, 3, 2, 6, 8, 1, 4],\n",
    "    [5, 6, 9, 4, 3, 2, 1, 7, 8],\n",
    "    [3, 4, 2, 7, 1, 8, 5, 6, 9],\n",
    "    [1, 7, 8, 6, 5, 9, 3, 4, 2]\n",
    "]\n",
    "\n",
    "\n",
    "# sudoku = [\n",
    "#     [10, 3, 14, 5, 4, 6, 11, 1, 8, 15, 13, 9, 16, 7, 12, 2],\n",
    "#     [15, 8, 13, 9, 16, 12, 2, 7, 3, 10, 14, 5, 4, 1, 12, 11],\n",
    "#     [1, 6, 11, 4, 9, 8, 13, 15, 12, 7, 2, 16, 5, 10, 3, 14],\n",
    "#     [7, 12, 2, 16, 5, 3, 14, 10, 6, 1, 11, 4, 9, 15, 8, 13],\n",
    "#     [14, 5, 7, 12, 3, 4, 10, 11, 9, 13, 1, 6, 8, 2, 16, 15],\n",
    "#     [13, 9, 1, 6, 8, 16, 15, 2, 5, 14, 7, 12, 3, 11, 4, 10],\n",
    "#     [11, 4, 10, 3, 6, 9, 1, 13, 16, 2, 15, 8, 12, 14, 5, 7],\n",
    "#     [2, 16, 15, 8, 12, 5, 7, 14, 4, 11, 10, 3, 6, 13, 9, 1],\n",
    "#     [12, 2, 16, 15, 7, 14, 5, 3, 11, 6, 4, 10, 1, 8, 13, 9],\n",
    "#     [6, 11, 4, 10, 1, 13, 9, 8, 2, 12, 16, 15, 7, 3, 14, 5],\n",
    "#     [3, 14, 5, 7, 10, 11, 4, 6, 13, 8, 9, 1, 15, 12, 2, 16],\n",
    "#     [8, 13, 9, 1, 15, 2, 16, 12, 14, 3, 5, 7, 10, 6, 11, 4],\n",
    "#     [5, 7, 12, 2, 14, 10, 3, 4, 1, 9, 6, 11, 13, 16, 15, 8],\n",
    "#     [4, 10, 3, 14, 11, 1, 6, 9, 15, 16, 8, 13, 2, 5, 7, 12],\n",
    "#     [9, 1, 6, 11, 13, 15, 8, 16, 7, 5, 12, 2, 14, 4, 10, 3],\n",
    "#     [16, 15, 8, 13, 2, 7, 12, 5, 10, 4, 3, 14, 11, 9, 1, 6]\n",
    "# ]"
   ]
  },
  {
   "cell_type": "code",
   "execution_count": 116,
   "metadata": {},
   "outputs": [
    {
     "name": "stdout",
     "output_type": "stream",
     "text": [
      "[True, True, True, True, True, True, True, True, True]\n",
      "This is sudoku\n",
      "0.15294885635375977\n"
     ]
    }
   ],
   "source": [
    "with Pool(cpu_count()) as p:\n",
    "    result = p.map(\n",
    "        multi_run_wrapper, [(sudoku,i) for i in range(len(sudoku))])\n",
    "    \n",
    "    print(result)\n",
    "    if all(result):\n",
    "        print(\"This is sudoku\")\n",
    "    else:\n",
    "        print(\"This is not sudoku\")"
   ]
  },
  {
   "cell_type": "code",
   "execution_count": null,
   "metadata": {},
   "outputs": [],
   "source": []
  },
  {
   "cell_type": "code",
   "execution_count": null,
   "metadata": {},
   "outputs": [],
   "source": []
  },
  {
   "cell_type": "code",
   "execution_count": null,
   "metadata": {},
   "outputs": [],
   "source": []
  }
 ],
 "metadata": {
  "kernelspec": {
   "display_name": "Python 3",
   "language": "python",
   "name": "python3"
  },
  "language_info": {
   "codemirror_mode": {
    "name": "ipython",
    "version": 3
   },
   "file_extension": ".py",
   "mimetype": "text/x-python",
   "name": "python",
   "nbconvert_exporter": "python",
   "pygments_lexer": "ipython3",
   "version": "3.7.7"
  }
 },
 "nbformat": 4,
 "nbformat_minor": 4
}
