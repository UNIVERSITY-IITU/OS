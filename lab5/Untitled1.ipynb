{
 "cells": [
  {
   "cell_type": "code",
   "execution_count": 1,
   "metadata": {},
   "outputs": [],
   "source": [
    "def powof2(num:int):\n",
    "    if num < 2:\n",
    "        return 0\n",
    "    counter = 0;\n",
    "    while num!=1:\n",
    "        num =  num / 2\n",
    "        counter += 1\n",
    "    return counter"
   ]
  },
  {
   "cell_type": "code",
   "execution_count": 41,
   "metadata": {},
   "outputs": [
    {
     "name": "stdout",
     "output_type": "stream",
     "text": [
      "addressable (K_byte): 16\n",
      "way : 8\n",
      "blocks : 2\n",
      "line 10 \toffset 1 \ttag 21\n"
     ]
    }
   ],
   "source": [
    "# task1\n",
    "address = 32\n",
    "\n",
    "addr = int(input(\"addressable (K_byte): \"))\n",
    "way = int(input(\"way : \"))\n",
    "block = int(input(\"blocks : \"))\n",
    "\n",
    "line = (powof2(addr) + 10) - (powof2(block) + powof2(way))\n",
    "offset = powof2(block)\n",
    "tag = address - line - offset\n",
    "print(\"line {0} \\toffset {1} \\ttag {2}\".format(line,offset,tag))"
   ]
  },
  {
   "cell_type": "code",
   "execution_count": 42,
   "metadata": {},
   "outputs": [],
   "source": [
    "# task3\n",
    "def find_binary(n):\n",
    "    def decimalToBinary(n):  \n",
    "        return bin(n).replace(\"0b\", \"\")\n",
    "    result = decimalToBinary(n)\n",
    "    return '0' * (16 - len(result)) + result"
   ]
  },
  {
   "cell_type": "code",
   "execution_count": 43,
   "metadata": {},
   "outputs": [
    {
     "name": "stdout",
     "output_type": "stream",
     "text": [
      "128\n",
      "144\n",
      "2176\n",
      "2180\n",
      "128\n",
      "2175\n",
      "128   Miss\n",
      "144   Hit\n",
      "2176   Miss\n",
      "2180   Hit\n",
      "128   Hit\n",
      "2175   Hit\n"
     ]
    }
   ],
   "source": [
    "\n",
    "array = [\n",
    "    input(),input(),\n",
    "    input(),input(),\n",
    "    input(),input()\n",
    "]\n",
    "\n",
    "last_b = []\n",
    "for n, i in enumerate(array):\n",
    "    \n",
    "    a = find_binary(int(i))\n",
    "    Tag = a[:5]\n",
    "    Block = a[5:10]\n",
    "    Word = a[10:]\n",
    "    \n",
    "\n",
    "    if n == 0:\n",
    "        last_b.append(Word[:5])\n",
    "        last_b.append(Tag)\n",
    "        print(i, ' ', 'Miss')\n",
    "    else:\n",
    "        if Tag in last_b:\n",
    "            print(i, ' ', 'Hit')\n",
    "        else:\n",
    "            last_b.append(Word[:5])\n",
    "            last_b.append(Tag)\n",
    "            print(i, ' ', 'Miss')"
   ]
  },
  {
   "cell_type": "code",
   "execution_count": null,
   "metadata": {},
   "outputs": [],
   "source": [
    "# array = [128, 144, 2176, 2180, 128, 2176]"
   ]
  },
  {
   "cell_type": "code",
   "execution_count": null,
   "metadata": {},
   "outputs": [],
   "source": []
  },
  {
   "cell_type": "code",
   "execution_count": 21,
   "metadata": {},
   "outputs": [],
   "source": []
  },
  {
   "cell_type": "code",
   "execution_count": null,
   "metadata": {},
   "outputs": [],
   "source": []
  },
  {
   "cell_type": "code",
   "execution_count": null,
   "metadata": {},
   "outputs": [],
   "source": []
  },
  {
   "cell_type": "code",
   "execution_count": null,
   "metadata": {},
   "outputs": [],
   "source": []
  }
 ],
 "metadata": {
  "kernelspec": {
   "display_name": "Python 3",
   "language": "python",
   "name": "python3"
  },
  "language_info": {
   "codemirror_mode": {
    "name": "ipython",
    "version": 3
   },
   "file_extension": ".py",
   "mimetype": "text/x-python",
   "name": "python",
   "nbconvert_exporter": "python",
   "pygments_lexer": "ipython3",
   "version": "3.7.7"
  }
 },
 "nbformat": 4,
 "nbformat_minor": 4
}
