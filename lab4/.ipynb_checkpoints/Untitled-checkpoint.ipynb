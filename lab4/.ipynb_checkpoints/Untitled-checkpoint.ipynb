{
 "cells": [
  {
   "cell_type": "code",
   "execution_count": 2,
   "metadata": {},
   "outputs": [],
   "source": [
    "def powof2(num:int):\n",
    "    if num < 2:\n",
    "        return 0\n",
    "    counter = 0;\n",
    "    while num!=1:\n",
    "        num =  num / 2\n",
    "        counter += 1\n",
    "    return counter"
   ]
  },
  {
   "cell_type": "code",
   "execution_count": 3,
   "metadata": {},
   "outputs": [
    {
     "name": "stdout",
     "output_type": "stream",
     "text": [
      "set associative(1)\n",
      "direct mapped(2)\n",
      "fully associative(3)\n",
      "3\n",
      "addressable (K_byte): 32\n",
      "blocks : 128\n",
      "line 8 \n",
      "offset 7\n",
      "tag 25\n"
     ]
    }
   ],
   "source": [
    "# task1\n",
    "address = 32\n",
    "typ = int(input(\"set associative(1)\\ndirect mapped(2)\\nfully associative(3)\\n\"))\n",
    "if typ == 1:\n",
    "    addr = int(input(\"addressable (K_byte): \"))\n",
    "    way = int(input(\"way : \"))\n",
    "    block = int(input(\"blocks : \"))\n",
    "    \n",
    "    line = (powof2(addr) + 10) - (powof2(block) + powof2(way))\n",
    "    offset = powof2(block)\n",
    "    tag = address - line - offset\n",
    "\n",
    "elif typ == 2:\n",
    "    addr = int(input(\"addressable (K_byte): \"))\n",
    "    block = int(input(\"blocks : \"))\n",
    "    \n",
    "    line = (powof2(addr) + 10) - (powof2(block))\n",
    "    offset = powof2(block)\n",
    "    tag = address - line - offset\n",
    "    \n",
    "elif typ == 3:\n",
    "    addr = int(input(\"addressable (K_byte): \"))\n",
    "    block = int(input(\"blocks : \"))\n",
    "    \n",
    "    line = (powof2(addr) + 10) - (powof2(block))\n",
    "    offset = powof2(block)\n",
    "    tag = address - offset\n",
    "    \n",
    "print(\"line {0} \\noffset {1}\\ntag {2}\".format(line,offset,tag))"
   ]
  },
  {
   "cell_type": "code",
   "execution_count": null,
   "metadata": {},
   "outputs": [],
   "source": []
  },
  {
   "cell_type": "code",
   "execution_count": null,
   "metadata": {},
   "outputs": [],
   "source": []
  },
  {
   "cell_type": "code",
   "execution_count": 29,
   "metadata": {},
   "outputs": [],
   "source": [
    "def find_binary(n):\n",
    "    def decimalToBinary(n):  \n",
    "        return bin(n).replace(\"0b\", \"\")\n",
    "    result = decimalToBinary(n)\n",
    "    return '0' * (20 - len(result)) + result"
   ]
  },
  {
   "cell_type": "code",
   "execution_count": 51,
   "metadata": {},
   "outputs": [],
   "source": [
    "a = find_binary(2176)\n",
    "# 128, 144, 2176, 2180, 128, 2176 "
   ]
  },
  {
   "cell_type": "code",
   "execution_count": 52,
   "metadata": {},
   "outputs": [
    {
     "name": "stdout",
     "output_type": "stream",
     "text": [
      "Miss\n",
      "tag 00000\n",
      "block 00010\n",
      "word 0010000000\n"
     ]
    }
   ],
   "source": [
    "# block == tag\n",
    "if a[:5] == a[5:10]:\n",
    "    print(\"Hit\")\n",
    "else:\n",
    "    print(\"Miss\")\n",
    "print(\"tag {0}\\nblock {1}\\nword {2}\".format(a[:5], a[5:10], a[10:]))"
   ]
  },
  {
   "cell_type": "code",
   "execution_count": null,
   "metadata": {},
   "outputs": [],
   "source": []
  },
  {
   "cell_type": "code",
   "execution_count": null,
   "metadata": {},
   "outputs": [],
   "source": []
  },
  {
   "cell_type": "code",
   "execution_count": null,
   "metadata": {},
   "outputs": [],
   "source": []
  },
  {
   "cell_type": "code",
   "execution_count": 64,
   "metadata": {},
   "outputs": [],
   "source": []
  },
  {
   "cell_type": "code",
   "execution_count": null,
   "metadata": {},
   "outputs": [],
   "source": []
  },
  {
   "cell_type": "code",
   "execution_count": null,
   "metadata": {},
   "outputs": [],
   "source": []
  }
 ],
 "metadata": {
  "kernelspec": {
   "display_name": "Python 3",
   "language": "python",
   "name": "python3"
  },
  "language_info": {
   "codemirror_mode": {
    "name": "ipython",
    "version": 3
   },
   "file_extension": ".py",
   "mimetype": "text/x-python",
   "name": "python",
   "nbconvert_exporter": "python",
   "pygments_lexer": "ipython3",
   "version": "3.7.7"
  }
 },
 "nbformat": 4,
 "nbformat_minor": 4
}
